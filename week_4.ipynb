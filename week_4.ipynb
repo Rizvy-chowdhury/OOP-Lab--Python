{
  "nbformat": 4,
  "nbformat_minor": 0,
  "metadata": {
    "colab": {
      "name": "week 4.ipynb",
      "provenance": [],
      "collapsed_sections": [],
      "include_colab_link": true
    },
    "kernelspec": {
      "name": "python3",
      "display_name": "Python 3"
    }
  },
  "cells": [
    {
      "cell_type": "markdown",
      "metadata": {
        "id": "view-in-github",
        "colab_type": "text"
      },
      "source": [
        "<a href=\"https://colab.research.google.com/github/Rizvy-chowdhury/OOP-Lab--Python/blob/main/week_4.ipynb\" target=\"_parent\"><img src=\"https://colab.research.google.com/assets/colab-badge.svg\" alt=\"Open In Colab\"/></a>"
      ]
    },
    {
      "cell_type": "markdown",
      "metadata": {
        "id": "PyqWDU1KlL76"
      },
      "source": [
        "**Creating list**"
      ]
    },
    {
      "cell_type": "code",
      "metadata": {
        "id": "S99EXW2MlXbl",
        "colab": {
          "base_uri": "https://localhost:8080/",
          "height": 67
        },
        "outputId": "09c00896-b21f-43da-bb38-a149d35a5d77"
      },
      "source": [
        "lst0=[4,1,2,3.2,223,\"Nobin\",\"Rasel\",[1,12,33,44]]\n",
        "print(lst0)\n",
        "lst1=[]\n",
        "print(lst1)\n",
        "lst2=list()\n",
        "print(lst1)"
      ],
      "execution_count": null,
      "outputs": [
        {
          "output_type": "stream",
          "text": [
            "[4, 1, 2, 3.2, 223, 'Nobin', 'Rasel', [1, 12, 33, 44]]\n",
            "[]\n",
            "[]\n"
          ],
          "name": "stdout"
        }
      ]
    },
    {
      "cell_type": "markdown",
      "metadata": {
        "id": "vI4YyIlbmfem"
      },
      "source": [
        "**Iterating list**"
      ]
    },
    {
      "cell_type": "code",
      "metadata": {
        "id": "UI5XZ1p7mjmG",
        "colab": {
          "base_uri": "https://localhost:8080/",
          "height": 34
        },
        "outputId": "108771de-cbc0-4519-dc92-014894776c95"
      },
      "source": [
        "lst0=[4,1,2,3.2,223,\"Nobin\",\"Rasel\",[1,12,33,44]]\n",
        "for i in lst0[6]:\n",
        "    print(i,end=' ')\n",
        "print('')"
      ],
      "execution_count": null,
      "outputs": [
        {
          "output_type": "stream",
          "text": [
            "R a s e l \n"
          ],
          "name": "stdout"
        }
      ]
    },
    {
      "cell_type": "code",
      "metadata": {
        "id": "hIYJsf1dm-_U",
        "colab": {
          "base_uri": "https://localhost:8080/",
          "height": 84
        },
        "outputId": "a46fb266-298e-48dc-a7e9-f383a1da86db"
      },
      "source": [
        "lst0=[4,1,2,3.2,223,\"Nobin\",\"Rasel\",[1,12,33,44]]\n",
        "print(lst0[-5])\n",
        "print(lst0[-3])\n",
        "print(lst0[7])\n",
        "print(lst0[0])"
      ],
      "execution_count": null,
      "outputs": [
        {
          "output_type": "stream",
          "text": [
            "3.2\n",
            "Nobin\n",
            "[1, 12, 33, 44]\n",
            "4\n"
          ],
          "name": "stdout"
        }
      ]
    },
    {
      "cell_type": "markdown",
      "metadata": {
        "id": "M0UYGOlfnVFN"
      },
      "source": [
        "**List operations**"
      ]
    },
    {
      "cell_type": "code",
      "metadata": {
        "id": "QlVVPgNtnYYE",
        "colab": {
          "base_uri": "https://localhost:8080/",
          "height": 168
        },
        "outputId": "a79aed86-6929-4adc-ae20-88d5744383d4"
      },
      "source": [
        "lst0=[4,1,2,4,3.2,223,\"Nobin\",\"Rasel\",[1,12,33,44]]\n",
        "\n",
        "print(len(lst0))\n",
        "\n",
        "lst0.append([133,232,132,200])\n",
        "print(lst0)\n",
        "\n",
        "lst0.insert(4,\"pandas\")\n",
        "print(lst0)\n",
        "\n",
        "lst0.remove(4)\n",
        "print(lst0)\n",
        "print(lst0.index(\"Nobin\"))\n",
        "\n",
        "print(lst0.count('pandas'))\n",
        "\n",
        "print(lst0.reverse())\n",
        "\n",
        "lst1=lst0.copy()\n",
        "print(lst1)\n",
        "\n",
        "lst0.clear()\n",
        "print(lst0)"
      ],
      "execution_count": null,
      "outputs": [
        {
          "output_type": "stream",
          "text": [
            "9\n",
            "[4, 1, 2, 4, 3.2, 223, 'Nobin', 'Rasel', [1, 12, 33, 44], [133, 232, 132, 200]]\n",
            "[4, 1, 2, 4, 'pandas', 3.2, 223, 'Nobin', 'Rasel', [1, 12, 33, 44], [133, 232, 132, 200]]\n",
            "[1, 2, 4, 'pandas', 3.2, 223, 'Nobin', 'Rasel', [1, 12, 33, 44], [133, 232, 132, 200]]\n",
            "6\n",
            "1\n",
            "None\n",
            "[[133, 232, 132, 200], [1, 12, 33, 44], 'Rasel', 'Nobin', 223, 3.2, 'pandas', 4, 2, 1]\n",
            "[]\n"
          ],
          "name": "stdout"
        }
      ]
    },
    {
      "cell_type": "markdown",
      "metadata": {
        "id": "f2uWv3_mp9GH"
      },
      "source": [
        "**list slicing**"
      ]
    },
    {
      "cell_type": "code",
      "metadata": {
        "id": "v02wFE97p-wk",
        "colab": {
          "base_uri": "https://localhost:8080/",
          "height": 84
        },
        "outputId": "93c0468c-0183-45d1-b51a-151fdfdbd4b6"
      },
      "source": [
        "lst0=[4,1,2,3.2,223,\"Nobin\",\"Rasel\",[1,12,33,44]]\n",
        "\n",
        "print(lst0[0:8])\n",
        "print(lst0[5:])\n",
        "print(lst0[:6])\n",
        "print(lst0[:])"
      ],
      "execution_count": null,
      "outputs": [
        {
          "output_type": "stream",
          "text": [
            "[4, 1, 2, 3.2, 223, 'Nobin', 'Rasel', [1, 12, 33, 44]]\n",
            "['Nobin', 'Rasel', [1, 12, 33, 44]]\n",
            "[4, 1, 2, 3.2, 223, 'Nobin']\n",
            "[4, 1, 2, 3.2, 223, 'Nobin', 'Rasel', [1, 12, 33, 44]]\n"
          ],
          "name": "stdout"
        }
      ]
    },
    {
      "cell_type": "markdown",
      "metadata": {
        "id": "en95ZH7aqQry"
      },
      "source": [
        "**list sorting**"
      ]
    },
    {
      "cell_type": "code",
      "metadata": {
        "id": "HOtKKjNzqcUF",
        "colab": {
          "base_uri": "https://localhost:8080/",
          "height": 67
        },
        "outputId": "7d59a0b6-6c2d-4a40-ddf2-e8b218aa2ab4"
      },
      "source": [
        "lst2=[2,3,4,56,77,323,456,6888,9]\n",
        "\n",
        "lst3=sorted(lst2)\n",
        "print(lst3)\n",
        "print(lst2)\n",
        "lst2.sort()\n",
        "print(lst2)"
      ],
      "execution_count": null,
      "outputs": [
        {
          "output_type": "stream",
          "text": [
            "[2, 3, 4, 9, 56, 77, 323, 456, 6888]\n",
            "[2, 3, 4, 56, 77, 323, 456, 6888, 9]\n",
            "[2, 3, 4, 9, 56, 77, 323, 456, 6888]\n"
          ],
          "name": "stdout"
        }
      ]
    },
    {
      "cell_type": "markdown",
      "metadata": {
        "id": "gQsDDDehqtoL"
      },
      "source": [
        "**Creating tuple**"
      ]
    },
    {
      "cell_type": "code",
      "metadata": {
        "id": "2XmwcZb8qw_r",
        "colab": {
          "base_uri": "https://localhost:8080/",
          "height": 67
        },
        "outputId": "3d50aaeb-9bda-4556-fffb-9c59c36c2f64"
      },
      "source": [
        "tp0=(4,1,2,3.2,223,\"Nobin\",\"Rasel\",[1,12,33,44])\n",
        "print(tp0)\n",
        "tp1=()\n",
        "print(tp1)\n",
        "tp2=tuple()\n",
        "print(tp2)"
      ],
      "execution_count": null,
      "outputs": [
        {
          "output_type": "stream",
          "text": [
            "(4, 1, 2, 3.2, 223, 'Nobin', 'Rasel', [1, 12, 33, 44])\n",
            "()\n",
            "()\n"
          ],
          "name": "stdout"
        }
      ]
    },
    {
      "cell_type": "markdown",
      "metadata": {
        "id": "IJ6bMiguqwia"
      },
      "source": [
        "**Iterating tupleX**"
      ]
    },
    {
      "cell_type": "code",
      "metadata": {
        "id": "ByByYbmtruPY",
        "colab": {
          "base_uri": "https://localhost:8080/",
          "height": 34
        },
        "outputId": "841a06d9-5fab-4c43-ebc6-0778eb27fd05"
      },
      "source": [
        "tp0=(4,1,2,3.2,223,\"Nobin\",\"Rasel\",[1,12,33,44])\n",
        "for i in tp0:\n",
        "    print(i,end=' ')\n",
        "print('')"
      ],
      "execution_count": null,
      "outputs": [
        {
          "output_type": "stream",
          "text": [
            "4 1 2 3.2 223 Nobin Rasel [1, 12, 33, 44] \n"
          ],
          "name": "stdout"
        }
      ]
    },
    {
      "cell_type": "markdown",
      "metadata": {
        "id": "BF21b2_ar2fv"
      },
      "source": [
        "**Iterating tuple**"
      ]
    },
    {
      "cell_type": "code",
      "metadata": {
        "id": "67DsVlsVsBbT",
        "colab": {
          "base_uri": "https://localhost:8080/",
          "height": 84
        },
        "outputId": "5b9ede2a-573f-4f73-ee5d-de66df0fa192"
      },
      "source": [
        "tp0=(4,1,2,3.2,223,\"Nobin\",\"Rasel\",[1,12,33,44])\n",
        "print(tp0[-5])\n",
        "print(tp0[-3])\n",
        "print(tp0[3])\n",
        "print(tp0[5])"
      ],
      "execution_count": null,
      "outputs": [
        {
          "output_type": "stream",
          "text": [
            "3.2\n",
            "Nobin\n",
            "3.2\n",
            "Nobin\n"
          ],
          "name": "stdout"
        }
      ]
    },
    {
      "cell_type": "markdown",
      "metadata": {
        "id": "g99GT57hsoSg"
      },
      "source": [
        "**Unpacking sequences**"
      ]
    },
    {
      "cell_type": "code",
      "metadata": {
        "id": "wb30LGFayTBk",
        "colab": {
          "base_uri": "https://localhost:8080/",
          "height": 84
        },
        "outputId": "c41a18d6-4d2a-4ced-92ec-743cd4d17eb3"
      },
      "source": [
        "lst=[23,3.4,45,432]\n",
        "a,b,c,d=lst\n",
        "print(a)\n",
        "print(b)\n",
        "print(c)\n",
        "print(d)"
      ],
      "execution_count": null,
      "outputs": [
        {
          "output_type": "stream",
          "text": [
            "23\n",
            "3.4\n",
            "45\n",
            "432\n"
          ],
          "name": "stdout"
        }
      ]
    },
    {
      "cell_type": "code",
      "metadata": {
        "id": "6a9WtYvYsq7t",
        "colab": {
          "base_uri": "https://localhost:8080/",
          "height": 84
        },
        "outputId": "c8e0c770-c3bb-4ffb-84aa-3c45751b344b"
      },
      "source": [
        "tp=(23,3.4,45,432)\n",
        "a,b,c,d=tp\n",
        "print(a)\n",
        "print(b)\n",
        "print(c)\n",
        "print(d)"
      ],
      "execution_count": null,
      "outputs": [
        {
          "output_type": "stream",
          "text": [
            "23\n",
            "3.4\n",
            "45\n",
            "432\n"
          ],
          "name": "stdout"
        }
      ]
    }
  ]
}